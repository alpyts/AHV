{
  "nbformat": 4,
  "nbformat_minor": 0,
  "metadata": {
    "colab": {
      "name": "Kadikoy_Konut_Fiyat.ipynb",
      "version": "0.3.2",
      "provenance": [],
      "include_colab_link": true
    },
    "language_info": {
      "codemirror_mode": {
        "name": "ipython",
        "version": 3
      },
      "file_extension": ".py",
      "mimetype": "text/x-python",
      "name": "python",
      "nbconvert_exporter": "python",
      "pygments_lexer": "ipython3",
      "version": "3.7.3"
    },
    "kernelspec": {
      "display_name": "Python 3",
      "language": "python",
      "name": "python3"
    }
  },
  "cells": [
    {
      "cell_type": "markdown",
      "metadata": {
        "id": "view-in-github",
        "colab_type": "text"
      },
      "source": [
        "<a href=\"https://colab.research.google.com/github/alpyts/AHV/blob/master/Kadikoy_Konut_Fiyat.ipynb\" target=\"_parent\"><img src=\"https://colab.research.google.com/assets/colab-badge.svg\" alt=\"Open In Colab\"/></a>"
      ]
    },
    {
      "cell_type": "code",
      "metadata": {
        "id": "eBLIGd7dR0lY",
        "colab_type": "code",
        "colab": {}
      },
      "source": [
        "import pandas as pd\n",
        "import numpy as np\n",
        "import matplotlib.pyplot as plt\n",
        "import seaborn as sns\n",
        "import scipy.stats as stats\n",
        "import math\n",
        "%matplotlib notebook\n",
        "%matplotlib inline\n",
        "from pandas import Series, DataFrame\n",
        "from sklearn import linear_model\n",
        "from sklearn.decomposition import PCA \n",
        "from sklearn.model_selection import train_test_split\n",
        "from sklearn.model_selection import cross_val_score\n",
        "from sklearn.model_selection import GridSearchCV\n",
        "from sklearn.preprocessing import StandardScaler\n",
        "from timeit import default_timer as timer\n",
        "from sklearn.metrics import mean_squared_error\n",
        "from sklearn.preprocessing import LabelEncoder"
      ],
      "execution_count": 0,
      "outputs": []
    },
    {
      "cell_type": "code",
      "metadata": {
        "id": "0wgT97BpR0lo",
        "colab_type": "code",
        "outputId": "e897ddd0-aab3-42d2-9835-6f876cc36b16",
        "colab": {
          "base_uri": "https://localhost:8080/",
          "height": 130
        }
      },
      "source": [
        "# load the file\n",
        "\n",
        "url = 'https://github.com/alpyts/AHV/blob/master/Kadikoy_Housing_Price/kadikoy.csv'\n",
        "\n",
        "houseData = pd.read_csv(https://github.com/alpyts/AHV/blob/master/Kadikoy_Housing_Price/kadikoy.csv, keep_default_na=False)\n",
        "\n",
        "houseData.head()\n"
      ],
      "execution_count": 8,
      "outputs": [
        {
          "output_type": "error",
          "ename": "SyntaxError",
          "evalue": "ignored",
          "traceback": [
            "\u001b[0;36m  File \u001b[0;32m\"<ipython-input-8-b37871d64d5e>\"\u001b[0;36m, line \u001b[0;32m4\u001b[0m\n\u001b[0;31m    houseData = pd.read_csv(https://github.com/alpyts/AHV/blob/master/Kadikoy_Housing_Price/kadikoy.csv, keep_default_na=False)\u001b[0m\n\u001b[0m                                 ^\u001b[0m\n\u001b[0;31mSyntaxError\u001b[0m\u001b[0;31m:\u001b[0m invalid syntax\n"
          ]
        }
      ]
    },
    {
      "cell_type": "code",
      "metadata": {
        "id": "ELOgL1yhV3VA",
        "colab_type": "code",
        "colab": {
          "resources": {
            "http://localhost:8080/nbextensions/google.colab/files.js": {
              "data": "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",
              "ok": true,
              "headers": [
                [
                  "content-type",
                  "application/javascript"
                ]
              ],
              "status": 200,
              "status_text": ""
            }
          },
          "base_uri": "https://localhost:8080/",
          "height": 74
        },
        "outputId": "7fe1035d-ba2f-4a55-d049-601deffebb3e"
      },
      "source": [
        "from google.colab import files\n",
        "uploaded = files.upload()"
      ],
      "execution_count": 9,
      "outputs": [
        {
          "output_type": "display_data",
          "data": {
            "text/html": [
              "\n",
              "     <input type=\"file\" id=\"files-78e915ac-6a73-43b4-a423-c0bff67a6a4f\" name=\"files[]\" multiple disabled />\n",
              "     <output id=\"result-78e915ac-6a73-43b4-a423-c0bff67a6a4f\">\n",
              "      Upload widget is only available when the cell has been executed in the\n",
              "      current browser session. Please rerun this cell to enable.\n",
              "      </output>\n",
              "      <script src=\"/nbextensions/google.colab/files.js\"></script> "
            ],
            "text/plain": [
              "<IPython.core.display.HTML object>"
            ]
          },
          "metadata": {
            "tags": []
          }
        },
        {
          "output_type": "stream",
          "text": [
            "Saving kadikoy.csv to kadikoy.csv\n"
          ],
          "name": "stdout"
        }
      ]
    },
    {
      "cell_type": "code",
      "metadata": {
        "id": "mu2nMyKwS3Yd",
        "colab_type": "code",
        "colab": {
          "base_uri": "https://localhost:8080/",
          "height": 224
        },
        "outputId": "58303887-7726-4d8f-a050-f20ab3de70f8"
      },
      "source": [
        "houseData = pd.read_csv(\"kadikoy.csv\", keep_default_na=False)\n",
        "\n",
        "houseData.head()\n"
      ],
      "execution_count": 10,
      "outputs": [
        {
          "output_type": "execute_result",
          "data": {
            "text/html": [
              "<div>\n",
              "<style scoped>\n",
              "    .dataframe tbody tr th:only-of-type {\n",
              "        vertical-align: middle;\n",
              "    }\n",
              "\n",
              "    .dataframe tbody tr th {\n",
              "        vertical-align: top;\n",
              "    }\n",
              "\n",
              "    .dataframe thead th {\n",
              "        text-align: right;\n",
              "    }\n",
              "</style>\n",
              "<table border=\"1\" class=\"dataframe\">\n",
              "  <thead>\n",
              "    <tr style=\"text-align: right;\">\n",
              "      <th></th>\n",
              "      <th>Id</th>\n",
              "      <th>Neighborhood</th>\n",
              "      <th>Date</th>\n",
              "      <th>Price</th>\n",
              "      <th>NetArea</th>\n",
              "      <th>GrossArea</th>\n",
              "      <th>NumberOfRoom</th>\n",
              "      <th>AgeOfBuilding</th>\n",
              "      <th>LocatedFloor</th>\n",
              "      <th>TotalFloor</th>\n",
              "      <th>Bathroom</th>\n",
              "      <th>Balcony</th>\n",
              "      <th>Furniture</th>\n",
              "      <th>RentIncome</th>\n",
              "    </tr>\n",
              "  </thead>\n",
              "  <tbody>\n",
              "    <tr>\n",
              "      <th>0</th>\n",
              "      <td>644083584</td>\n",
              "      <td>Egitim</td>\n",
              "      <td>9.05.2019</td>\n",
              "      <td>167.0</td>\n",
              "      <td>65.0</td>\n",
              "      <td>75.0</td>\n",
              "      <td>3.0</td>\n",
              "      <td>30.0</td>\n",
              "      <td>1.0</td>\n",
              "      <td>4.0</td>\n",
              "      <td>1.0</td>\n",
              "      <td>1.0</td>\n",
              "      <td>0.0</td>\n",
              "      <td>1.0</td>\n",
              "    </tr>\n",
              "    <tr>\n",
              "      <th>1</th>\n",
              "      <td>696137168</td>\n",
              "      <td>Hasanpasa</td>\n",
              "      <td>28.05.2019</td>\n",
              "      <td>175.0</td>\n",
              "      <td>95.0</td>\n",
              "      <td>100.0</td>\n",
              "      <td>3.0</td>\n",
              "      <td>0.0</td>\n",
              "      <td>1.0</td>\n",
              "      <td>5.0</td>\n",
              "      <td>1.0</td>\n",
              "      <td>1.0</td>\n",
              "      <td>0.0</td>\n",
              "      <td>0.0</td>\n",
              "    </tr>\n",
              "    <tr>\n",
              "      <th>2</th>\n",
              "      <td>696813140</td>\n",
              "      <td>Hasanpasa</td>\n",
              "      <td>31.05.2019</td>\n",
              "      <td>199.0</td>\n",
              "      <td>55.0</td>\n",
              "      <td>65.0</td>\n",
              "      <td>2.0</td>\n",
              "      <td>4.0</td>\n",
              "      <td>-1.0</td>\n",
              "      <td>3.0</td>\n",
              "      <td>1.0</td>\n",
              "      <td>0.0</td>\n",
              "      <td>0.0</td>\n",
              "      <td>0.0</td>\n",
              "    </tr>\n",
              "    <tr>\n",
              "      <th>3</th>\n",
              "      <td>670399423</td>\n",
              "      <td>Hasanpasa</td>\n",
              "      <td>20.05.2019</td>\n",
              "      <td>220.0</td>\n",
              "      <td>70.0</td>\n",
              "      <td>85.0</td>\n",
              "      <td>3.0</td>\n",
              "      <td>7.0</td>\n",
              "      <td>-1.0</td>\n",
              "      <td>4.0</td>\n",
              "      <td>1.0</td>\n",
              "      <td>1.0</td>\n",
              "      <td>0.0</td>\n",
              "      <td>1.0</td>\n",
              "    </tr>\n",
              "    <tr>\n",
              "      <th>4</th>\n",
              "      <td>694947045</td>\n",
              "      <td>Hasanpasa</td>\n",
              "      <td>23.05.2019</td>\n",
              "      <td>225.0</td>\n",
              "      <td>65.0</td>\n",
              "      <td>70.0</td>\n",
              "      <td>3.0</td>\n",
              "      <td>25.0</td>\n",
              "      <td>-1.0</td>\n",
              "      <td>4.0</td>\n",
              "      <td>1.0</td>\n",
              "      <td>1.0</td>\n",
              "      <td>0.0</td>\n",
              "      <td>0.0</td>\n",
              "    </tr>\n",
              "  </tbody>\n",
              "</table>\n",
              "</div>"
            ],
            "text/plain": [
              "          Id Neighborhood        Date  ...  Balcony  Furniture  RentIncome\n",
              "0  644083584      Egitim    9.05.2019  ...      1.0        0.0         1.0\n",
              "1  696137168   Hasanpasa   28.05.2019  ...      1.0        0.0         0.0\n",
              "2  696813140   Hasanpasa   31.05.2019  ...      0.0        0.0         0.0\n",
              "3  670399423   Hasanpasa   20.05.2019  ...      1.0        0.0         1.0\n",
              "4  694947045   Hasanpasa   23.05.2019  ...      1.0        0.0         0.0\n",
              "\n",
              "[5 rows x 14 columns]"
            ]
          },
          "metadata": {
            "tags": []
          },
          "execution_count": 10
        }
      ]
    },
    {
      "cell_type": "code",
      "metadata": {
        "id": "eaq5S12kR0l4",
        "colab_type": "code",
        "outputId": "076ca7eb-e1a5-49ca-e7d2-d2457c038e0a",
        "colab": {
          "base_uri": "https://localhost:8080/",
          "height": 34
        }
      },
      "source": [
        "houseData.shape"
      ],
      "execution_count": 11,
      "outputs": [
        {
          "output_type": "execute_result",
          "data": {
            "text/plain": [
              "(949, 14)"
            ]
          },
          "metadata": {
            "tags": []
          },
          "execution_count": 11
        }
      ]
    },
    {
      "cell_type": "code",
      "metadata": {
        "id": "mT5GCXrVR0l4",
        "colab_type": "code",
        "outputId": "e1890c6d-6c8c-4115-db4e-8300437900ed",
        "colab": {
          "base_uri": "https://localhost:8080/",
          "height": 204
        }
      },
      "source": [
        "# Deleting columns\n",
        "# Delete the \"Date\" column from the dataframe\n",
        "# Delete the \"Neighborhood\" column from the dataframe\n",
        "# Delete the \"Id\" column from the dataframe\n",
        "\n",
        "houseData = houseData.drop(\"Date\", axis=1)\n",
        "houseData = houseData.drop(\"Neighborhood\", axis=1)\n",
        "\n",
        "houseData.head()"
      ],
      "execution_count": 12,
      "outputs": [
        {
          "output_type": "execute_result",
          "data": {
            "text/html": [
              "<div>\n",
              "<style scoped>\n",
              "    .dataframe tbody tr th:only-of-type {\n",
              "        vertical-align: middle;\n",
              "    }\n",
              "\n",
              "    .dataframe tbody tr th {\n",
              "        vertical-align: top;\n",
              "    }\n",
              "\n",
              "    .dataframe thead th {\n",
              "        text-align: right;\n",
              "    }\n",
              "</style>\n",
              "<table border=\"1\" class=\"dataframe\">\n",
              "  <thead>\n",
              "    <tr style=\"text-align: right;\">\n",
              "      <th></th>\n",
              "      <th>Id</th>\n",
              "      <th>Price</th>\n",
              "      <th>NetArea</th>\n",
              "      <th>GrossArea</th>\n",
              "      <th>NumberOfRoom</th>\n",
              "      <th>AgeOfBuilding</th>\n",
              "      <th>LocatedFloor</th>\n",
              "      <th>TotalFloor</th>\n",
              "      <th>Bathroom</th>\n",
              "      <th>Balcony</th>\n",
              "      <th>Furniture</th>\n",
              "      <th>RentIncome</th>\n",
              "    </tr>\n",
              "  </thead>\n",
              "  <tbody>\n",
              "    <tr>\n",
              "      <th>0</th>\n",
              "      <td>644083584</td>\n",
              "      <td>167.0</td>\n",
              "      <td>65.0</td>\n",
              "      <td>75.0</td>\n",
              "      <td>3.0</td>\n",
              "      <td>30.0</td>\n",
              "      <td>1.0</td>\n",
              "      <td>4.0</td>\n",
              "      <td>1.0</td>\n",
              "      <td>1.0</td>\n",
              "      <td>0.0</td>\n",
              "      <td>1.0</td>\n",
              "    </tr>\n",
              "    <tr>\n",
              "      <th>1</th>\n",
              "      <td>696137168</td>\n",
              "      <td>175.0</td>\n",
              "      <td>95.0</td>\n",
              "      <td>100.0</td>\n",
              "      <td>3.0</td>\n",
              "      <td>0.0</td>\n",
              "      <td>1.0</td>\n",
              "      <td>5.0</td>\n",
              "      <td>1.0</td>\n",
              "      <td>1.0</td>\n",
              "      <td>0.0</td>\n",
              "      <td>0.0</td>\n",
              "    </tr>\n",
              "    <tr>\n",
              "      <th>2</th>\n",
              "      <td>696813140</td>\n",
              "      <td>199.0</td>\n",
              "      <td>55.0</td>\n",
              "      <td>65.0</td>\n",
              "      <td>2.0</td>\n",
              "      <td>4.0</td>\n",
              "      <td>-1.0</td>\n",
              "      <td>3.0</td>\n",
              "      <td>1.0</td>\n",
              "      <td>0.0</td>\n",
              "      <td>0.0</td>\n",
              "      <td>0.0</td>\n",
              "    </tr>\n",
              "    <tr>\n",
              "      <th>3</th>\n",
              "      <td>670399423</td>\n",
              "      <td>220.0</td>\n",
              "      <td>70.0</td>\n",
              "      <td>85.0</td>\n",
              "      <td>3.0</td>\n",
              "      <td>7.0</td>\n",
              "      <td>-1.0</td>\n",
              "      <td>4.0</td>\n",
              "      <td>1.0</td>\n",
              "      <td>1.0</td>\n",
              "      <td>0.0</td>\n",
              "      <td>1.0</td>\n",
              "    </tr>\n",
              "    <tr>\n",
              "      <th>4</th>\n",
              "      <td>694947045</td>\n",
              "      <td>225.0</td>\n",
              "      <td>65.0</td>\n",
              "      <td>70.0</td>\n",
              "      <td>3.0</td>\n",
              "      <td>25.0</td>\n",
              "      <td>-1.0</td>\n",
              "      <td>4.0</td>\n",
              "      <td>1.0</td>\n",
              "      <td>1.0</td>\n",
              "      <td>0.0</td>\n",
              "      <td>0.0</td>\n",
              "    </tr>\n",
              "  </tbody>\n",
              "</table>\n",
              "</div>"
            ],
            "text/plain": [
              "          Id  Price  NetArea  ...  Balcony  Furniture  RentIncome\n",
              "0  644083584  167.0     65.0  ...      1.0        0.0         1.0\n",
              "1  696137168  175.0     95.0  ...      1.0        0.0         0.0\n",
              "2  696813140  199.0     55.0  ...      0.0        0.0         0.0\n",
              "3  670399423  220.0     70.0  ...      1.0        0.0         1.0\n",
              "4  694947045  225.0     65.0  ...      1.0        0.0         0.0\n",
              "\n",
              "[5 rows x 12 columns]"
            ]
          },
          "metadata": {
            "tags": []
          },
          "execution_count": 12
        }
      ]
    },
    {
      "cell_type": "code",
      "metadata": {
        "id": "2k75u5E2R0mO",
        "colab_type": "code",
        "outputId": "631dd934-d7a2-441c-dace-2934212d95f9",
        "colab": {
          "base_uri": "https://localhost:8080/",
          "height": 34
        }
      },
      "source": [
        "print ('Initial shape of the kadikoy HouseData is', houseData.shape)\n"
      ],
      "execution_count": 13,
      "outputs": [
        {
          "output_type": "stream",
          "text": [
            "Initial shape of the kadikoy HouseData is (949, 12)\n"
          ],
          "name": "stdout"
        }
      ]
    },
    {
      "cell_type": "code",
      "metadata": {
        "id": "NVCDNAPaR0mX",
        "colab_type": "code",
        "outputId": "14f2e637-b095-4467-aad9-176efe2de4dc",
        "colab": {
          "base_uri": "https://localhost:8080/",
          "height": 238
        }
      },
      "source": [
        "# Veri tiplerini görelim\n",
        "houseData.dtypes"
      ],
      "execution_count": 14,
      "outputs": [
        {
          "output_type": "execute_result",
          "data": {
            "text/plain": [
              "Id                 int64\n",
              "Price            float64\n",
              "NetArea          float64\n",
              "GrossArea        float64\n",
              "NumberOfRoom     float64\n",
              "AgeOfBuilding    float64\n",
              "LocatedFloor     float64\n",
              "TotalFloor       float64\n",
              "Bathroom         float64\n",
              "Balcony          float64\n",
              "Furniture        float64\n",
              "RentIncome       float64\n",
              "dtype: object"
            ]
          },
          "metadata": {
            "tags": []
          },
          "execution_count": 14
        }
      ]
    },
    {
      "cell_type": "code",
      "metadata": {
        "id": "5Ci7rJ6VR0mg",
        "colab_type": "code",
        "outputId": "3bb5dd9c-72a9-4c1a-c238-1fe516f94f31",
        "colab": {
          "base_uri": "https://localhost:8080/",
          "height": 49
        }
      },
      "source": [
        "# Tekrarlanan veri kontrolü\n",
        "houseData[houseData.duplicated(keep=False)]"
      ],
      "execution_count": 15,
      "outputs": [
        {
          "output_type": "execute_result",
          "data": {
            "text/html": [
              "<div>\n",
              "<style scoped>\n",
              "    .dataframe tbody tr th:only-of-type {\n",
              "        vertical-align: middle;\n",
              "    }\n",
              "\n",
              "    .dataframe tbody tr th {\n",
              "        vertical-align: top;\n",
              "    }\n",
              "\n",
              "    .dataframe thead th {\n",
              "        text-align: right;\n",
              "    }\n",
              "</style>\n",
              "<table border=\"1\" class=\"dataframe\">\n",
              "  <thead>\n",
              "    <tr style=\"text-align: right;\">\n",
              "      <th></th>\n",
              "      <th>Id</th>\n",
              "      <th>Price</th>\n",
              "      <th>NetArea</th>\n",
              "      <th>GrossArea</th>\n",
              "      <th>NumberOfRoom</th>\n",
              "      <th>AgeOfBuilding</th>\n",
              "      <th>LocatedFloor</th>\n",
              "      <th>TotalFloor</th>\n",
              "      <th>Bathroom</th>\n",
              "      <th>Balcony</th>\n",
              "      <th>Furniture</th>\n",
              "      <th>RentIncome</th>\n",
              "    </tr>\n",
              "  </thead>\n",
              "  <tbody>\n",
              "  </tbody>\n",
              "</table>\n",
              "</div>"
            ],
            "text/plain": [
              "Empty DataFrame\n",
              "Columns: [Id, Price, NetArea, GrossArea, NumberOfRoom, AgeOfBuilding, LocatedFloor, TotalFloor, Bathroom, Balcony, Furniture, RentIncome]\n",
              "Index: []"
            ]
          },
          "metadata": {
            "tags": []
          },
          "execution_count": 15
        }
      ]
    },
    {
      "cell_type": "code",
      "metadata": {
        "id": "bkbCvBP1R0mp",
        "colab_type": "code",
        "outputId": "8e6854ec-81f9-4d9b-fc45-f4df6554bc6e",
        "colab": {
          "base_uri": "https://localhost:8080/",
          "height": 669
        }
      },
      "source": [
        "houseData.head(20)"
      ],
      "execution_count": 16,
      "outputs": [
        {
          "output_type": "execute_result",
          "data": {
            "text/html": [
              "<div>\n",
              "<style scoped>\n",
              "    .dataframe tbody tr th:only-of-type {\n",
              "        vertical-align: middle;\n",
              "    }\n",
              "\n",
              "    .dataframe tbody tr th {\n",
              "        vertical-align: top;\n",
              "    }\n",
              "\n",
              "    .dataframe thead th {\n",
              "        text-align: right;\n",
              "    }\n",
              "</style>\n",
              "<table border=\"1\" class=\"dataframe\">\n",
              "  <thead>\n",
              "    <tr style=\"text-align: right;\">\n",
              "      <th></th>\n",
              "      <th>Id</th>\n",
              "      <th>Price</th>\n",
              "      <th>NetArea</th>\n",
              "      <th>GrossArea</th>\n",
              "      <th>NumberOfRoom</th>\n",
              "      <th>AgeOfBuilding</th>\n",
              "      <th>LocatedFloor</th>\n",
              "      <th>TotalFloor</th>\n",
              "      <th>Bathroom</th>\n",
              "      <th>Balcony</th>\n",
              "      <th>Furniture</th>\n",
              "      <th>RentIncome</th>\n",
              "    </tr>\n",
              "  </thead>\n",
              "  <tbody>\n",
              "    <tr>\n",
              "      <th>0</th>\n",
              "      <td>644083584</td>\n",
              "      <td>167.0</td>\n",
              "      <td>65.0</td>\n",
              "      <td>75.0</td>\n",
              "      <td>3.0</td>\n",
              "      <td>30.0</td>\n",
              "      <td>1.0</td>\n",
              "      <td>4.0</td>\n",
              "      <td>1.0</td>\n",
              "      <td>1.0</td>\n",
              "      <td>0.0</td>\n",
              "      <td>1.0</td>\n",
              "    </tr>\n",
              "    <tr>\n",
              "      <th>1</th>\n",
              "      <td>696137168</td>\n",
              "      <td>175.0</td>\n",
              "      <td>95.0</td>\n",
              "      <td>100.0</td>\n",
              "      <td>3.0</td>\n",
              "      <td>0.0</td>\n",
              "      <td>1.0</td>\n",
              "      <td>5.0</td>\n",
              "      <td>1.0</td>\n",
              "      <td>1.0</td>\n",
              "      <td>0.0</td>\n",
              "      <td>0.0</td>\n",
              "    </tr>\n",
              "    <tr>\n",
              "      <th>2</th>\n",
              "      <td>696813140</td>\n",
              "      <td>199.0</td>\n",
              "      <td>55.0</td>\n",
              "      <td>65.0</td>\n",
              "      <td>2.0</td>\n",
              "      <td>4.0</td>\n",
              "      <td>-1.0</td>\n",
              "      <td>3.0</td>\n",
              "      <td>1.0</td>\n",
              "      <td>0.0</td>\n",
              "      <td>0.0</td>\n",
              "      <td>0.0</td>\n",
              "    </tr>\n",
              "    <tr>\n",
              "      <th>3</th>\n",
              "      <td>670399423</td>\n",
              "      <td>220.0</td>\n",
              "      <td>70.0</td>\n",
              "      <td>85.0</td>\n",
              "      <td>3.0</td>\n",
              "      <td>7.0</td>\n",
              "      <td>-1.0</td>\n",
              "      <td>4.0</td>\n",
              "      <td>1.0</td>\n",
              "      <td>1.0</td>\n",
              "      <td>0.0</td>\n",
              "      <td>1.0</td>\n",
              "    </tr>\n",
              "    <tr>\n",
              "      <th>4</th>\n",
              "      <td>694947045</td>\n",
              "      <td>225.0</td>\n",
              "      <td>65.0</td>\n",
              "      <td>70.0</td>\n",
              "      <td>3.0</td>\n",
              "      <td>25.0</td>\n",
              "      <td>-1.0</td>\n",
              "      <td>4.0</td>\n",
              "      <td>1.0</td>\n",
              "      <td>1.0</td>\n",
              "      <td>0.0</td>\n",
              "      <td>0.0</td>\n",
              "    </tr>\n",
              "    <tr>\n",
              "      <th>5</th>\n",
              "      <td>593649128</td>\n",
              "      <td>240.0</td>\n",
              "      <td>75.0</td>\n",
              "      <td>90.0</td>\n",
              "      <td>3.0</td>\n",
              "      <td>7.0</td>\n",
              "      <td>0.0</td>\n",
              "      <td>4.0</td>\n",
              "      <td>1.0</td>\n",
              "      <td>0.0</td>\n",
              "      <td>0.0</td>\n",
              "      <td>1.0</td>\n",
              "    </tr>\n",
              "    <tr>\n",
              "      <th>6</th>\n",
              "      <td>593271716</td>\n",
              "      <td>240.0</td>\n",
              "      <td>75.0</td>\n",
              "      <td>75.0</td>\n",
              "      <td>3.0</td>\n",
              "      <td>7.0</td>\n",
              "      <td>-1.0</td>\n",
              "      <td>3.0</td>\n",
              "      <td>1.0</td>\n",
              "      <td>0.0</td>\n",
              "      <td>0.0</td>\n",
              "      <td>1.0</td>\n",
              "    </tr>\n",
              "    <tr>\n",
              "      <th>7</th>\n",
              "      <td>688996025</td>\n",
              "      <td>242.0</td>\n",
              "      <td>75.0</td>\n",
              "      <td>85.0</td>\n",
              "      <td>3.0</td>\n",
              "      <td>25.0</td>\n",
              "      <td>0.0</td>\n",
              "      <td>5.0</td>\n",
              "      <td>1.0</td>\n",
              "      <td>1.0</td>\n",
              "      <td>0.0</td>\n",
              "      <td>0.0</td>\n",
              "    </tr>\n",
              "    <tr>\n",
              "      <th>8</th>\n",
              "      <td>680865167</td>\n",
              "      <td>245.0</td>\n",
              "      <td>80.0</td>\n",
              "      <td>90.0</td>\n",
              "      <td>3.0</td>\n",
              "      <td>28.0</td>\n",
              "      <td>0.0</td>\n",
              "      <td>6.0</td>\n",
              "      <td>1.0</td>\n",
              "      <td>1.0</td>\n",
              "      <td>0.0</td>\n",
              "      <td>0.0</td>\n",
              "    </tr>\n",
              "    <tr>\n",
              "      <th>9</th>\n",
              "      <td>663447041</td>\n",
              "      <td>250.0</td>\n",
              "      <td>60.0</td>\n",
              "      <td>70.0</td>\n",
              "      <td>2.0</td>\n",
              "      <td>30.0</td>\n",
              "      <td>1.0</td>\n",
              "      <td>4.0</td>\n",
              "      <td>1.0</td>\n",
              "      <td>1.0</td>\n",
              "      <td>0.0</td>\n",
              "      <td>0.0</td>\n",
              "    </tr>\n",
              "    <tr>\n",
              "      <th>10</th>\n",
              "      <td>689718949</td>\n",
              "      <td>250.0</td>\n",
              "      <td>55.0</td>\n",
              "      <td>55.0</td>\n",
              "      <td>2.0</td>\n",
              "      <td>13.0</td>\n",
              "      <td>0.0</td>\n",
              "      <td>4.0</td>\n",
              "      <td>1.0</td>\n",
              "      <td>1.0</td>\n",
              "      <td>0.0</td>\n",
              "      <td>0.0</td>\n",
              "    </tr>\n",
              "    <tr>\n",
              "      <th>11</th>\n",
              "      <td>687072554</td>\n",
              "      <td>250.0</td>\n",
              "      <td>80.0</td>\n",
              "      <td>110.0</td>\n",
              "      <td>3.0</td>\n",
              "      <td>18.0</td>\n",
              "      <td>0.0</td>\n",
              "      <td>4.0</td>\n",
              "      <td>1.0</td>\n",
              "      <td>1.0</td>\n",
              "      <td>0.0</td>\n",
              "      <td>1.0</td>\n",
              "    </tr>\n",
              "    <tr>\n",
              "      <th>12</th>\n",
              "      <td>644494494</td>\n",
              "      <td>255.0</td>\n",
              "      <td>75.0</td>\n",
              "      <td>85.0</td>\n",
              "      <td>3.0</td>\n",
              "      <td>30.0</td>\n",
              "      <td>0.0</td>\n",
              "      <td>5.0</td>\n",
              "      <td>1.0</td>\n",
              "      <td>0.0</td>\n",
              "      <td>0.0</td>\n",
              "      <td>1.0</td>\n",
              "    </tr>\n",
              "    <tr>\n",
              "      <th>13</th>\n",
              "      <td>665891872</td>\n",
              "      <td>255.0</td>\n",
              "      <td>70.0</td>\n",
              "      <td>85.0</td>\n",
              "      <td>3.0</td>\n",
              "      <td>30.0</td>\n",
              "      <td>-1.0</td>\n",
              "      <td>4.0</td>\n",
              "      <td>1.0</td>\n",
              "      <td>0.0</td>\n",
              "      <td>0.0</td>\n",
              "      <td>0.0</td>\n",
              "    </tr>\n",
              "    <tr>\n",
              "      <th>14</th>\n",
              "      <td>691937105</td>\n",
              "      <td>260.0</td>\n",
              "      <td>75.0</td>\n",
              "      <td>80.0</td>\n",
              "      <td>3.0</td>\n",
              "      <td>25.0</td>\n",
              "      <td>0.0</td>\n",
              "      <td>4.0</td>\n",
              "      <td>1.0</td>\n",
              "      <td>1.0</td>\n",
              "      <td>0.0</td>\n",
              "      <td>0.0</td>\n",
              "    </tr>\n",
              "    <tr>\n",
              "      <th>15</th>\n",
              "      <td>669611686</td>\n",
              "      <td>260.0</td>\n",
              "      <td>50.0</td>\n",
              "      <td>65.0</td>\n",
              "      <td>3.0</td>\n",
              "      <td>30.0</td>\n",
              "      <td>-1.0</td>\n",
              "      <td>6.0</td>\n",
              "      <td>1.0</td>\n",
              "      <td>0.0</td>\n",
              "      <td>0.0</td>\n",
              "      <td>0.0</td>\n",
              "    </tr>\n",
              "    <tr>\n",
              "      <th>16</th>\n",
              "      <td>684739341</td>\n",
              "      <td>265.0</td>\n",
              "      <td>50.0</td>\n",
              "      <td>60.0</td>\n",
              "      <td>2.0</td>\n",
              "      <td>7.0</td>\n",
              "      <td>-1.0</td>\n",
              "      <td>5.0</td>\n",
              "      <td>1.0</td>\n",
              "      <td>0.0</td>\n",
              "      <td>0.0</td>\n",
              "      <td>1.0</td>\n",
              "    </tr>\n",
              "    <tr>\n",
              "      <th>17</th>\n",
              "      <td>573667267</td>\n",
              "      <td>270.0</td>\n",
              "      <td>50.0</td>\n",
              "      <td>60.0</td>\n",
              "      <td>2.0</td>\n",
              "      <td>0.0</td>\n",
              "      <td>0.0</td>\n",
              "      <td>3.0</td>\n",
              "      <td>1.0</td>\n",
              "      <td>1.0</td>\n",
              "      <td>0.0</td>\n",
              "      <td>0.0</td>\n",
              "    </tr>\n",
              "    <tr>\n",
              "      <th>18</th>\n",
              "      <td>662395521</td>\n",
              "      <td>274.0</td>\n",
              "      <td>60.0</td>\n",
              "      <td>65.0</td>\n",
              "      <td>3.0</td>\n",
              "      <td>30.0</td>\n",
              "      <td>1.0</td>\n",
              "      <td>4.0</td>\n",
              "      <td>1.0</td>\n",
              "      <td>1.0</td>\n",
              "      <td>0.0</td>\n",
              "      <td>1.0</td>\n",
              "    </tr>\n",
              "    <tr>\n",
              "      <th>19</th>\n",
              "      <td>654568126</td>\n",
              "      <td>275.0</td>\n",
              "      <td>80.0</td>\n",
              "      <td>95.0</td>\n",
              "      <td>3.0</td>\n",
              "      <td>30.0</td>\n",
              "      <td>3.0</td>\n",
              "      <td>3.0</td>\n",
              "      <td>1.0</td>\n",
              "      <td>1.0</td>\n",
              "      <td>0.0</td>\n",
              "      <td>1.0</td>\n",
              "    </tr>\n",
              "  </tbody>\n",
              "</table>\n",
              "</div>"
            ],
            "text/plain": [
              "           Id  Price  NetArea  ...  Balcony  Furniture  RentIncome\n",
              "0   644083584  167.0     65.0  ...      1.0        0.0         1.0\n",
              "1   696137168  175.0     95.0  ...      1.0        0.0         0.0\n",
              "2   696813140  199.0     55.0  ...      0.0        0.0         0.0\n",
              "3   670399423  220.0     70.0  ...      1.0        0.0         1.0\n",
              "4   694947045  225.0     65.0  ...      1.0        0.0         0.0\n",
              "5   593649128  240.0     75.0  ...      0.0        0.0         1.0\n",
              "6   593271716  240.0     75.0  ...      0.0        0.0         1.0\n",
              "7   688996025  242.0     75.0  ...      1.0        0.0         0.0\n",
              "8   680865167  245.0     80.0  ...      1.0        0.0         0.0\n",
              "9   663447041  250.0     60.0  ...      1.0        0.0         0.0\n",
              "10  689718949  250.0     55.0  ...      1.0        0.0         0.0\n",
              "11  687072554  250.0     80.0  ...      1.0        0.0         1.0\n",
              "12  644494494  255.0     75.0  ...      0.0        0.0         1.0\n",
              "13  665891872  255.0     70.0  ...      0.0        0.0         0.0\n",
              "14  691937105  260.0     75.0  ...      1.0        0.0         0.0\n",
              "15  669611686  260.0     50.0  ...      0.0        0.0         0.0\n",
              "16  684739341  265.0     50.0  ...      0.0        0.0         1.0\n",
              "17  573667267  270.0     50.0  ...      1.0        0.0         0.0\n",
              "18  662395521  274.0     60.0  ...      1.0        0.0         1.0\n",
              "19  654568126  275.0     80.0  ...      1.0        0.0         1.0\n",
              "\n",
              "[20 rows x 12 columns]"
            ]
          },
          "metadata": {
            "tags": []
          },
          "execution_count": 16
        }
      ]
    },
    {
      "cell_type": "code",
      "metadata": {
        "id": "MofdjdfyR0mr",
        "colab_type": "code",
        "colab": {}
      },
      "source": [
        "# Kolon isimlerindeki boşlukları silelim.\n",
        "houseData.columns = houseData.columns.str.replace(' ',\"\")\n",
        "\n",
        "# Eksik veri var ise NAN olarak görmek için\n",
        "houseData.replace(to_replace = \"\", value = np.NAN,inplace=True)\n",
        "\n"
      ],
      "execution_count": 0,
      "outputs": []
    },
    {
      "cell_type": "code",
      "metadata": {
        "id": "Bfd8VYHyR0m1",
        "colab_type": "code",
        "outputId": "3ed307d5-b4fd-4b43-b069-640ce8e5e4da",
        "colab": {
          "base_uri": "https://localhost:8080/",
          "height": 87
        }
      },
      "source": [
        "# Tüm kolon isimlerini görelim\n",
        "houseData.columns"
      ],
      "execution_count": 18,
      "outputs": [
        {
          "output_type": "execute_result",
          "data": {
            "text/plain": [
              "Index(['Id', 'Price', 'NetArea', 'GrossArea', 'NumberOfRoom', 'AgeOfBuilding',\n",
              "       'LocatedFloor', 'TotalFloor', 'Bathroom', 'Balcony', 'Furniture',\n",
              "       'RentIncome'],\n",
              "      dtype='object')"
            ]
          },
          "metadata": {
            "tags": []
          },
          "execution_count": 18
        }
      ]
    },
    {
      "cell_type": "code",
      "metadata": {
        "id": "JFtxoHE6R0m_",
        "colab_type": "code",
        "colab": {}
      },
      "source": [
        "# Del the ID\n",
        "\n",
        "houseData = houseData.drop(\"Id\", axis=1)"
      ],
      "execution_count": 0,
      "outputs": []
    },
    {
      "cell_type": "code",
      "metadata": {
        "id": "1ErGN4X1R0m_",
        "colab_type": "code",
        "outputId": "da92527e-27ad-4bac-b9e9-58f06bdb507e",
        "colab": {
          "base_uri": "https://localhost:8080/",
          "height": 34
        }
      },
      "source": [
        "# Eksik veri iceren kolon-satır sayısını görelim\n",
        "houseData.columns[houseData.isnull().sum() != 0].size"
      ],
      "execution_count": 20,
      "outputs": [
        {
          "output_type": "execute_result",
          "data": {
            "text/plain": [
              "0"
            ]
          },
          "metadata": {
            "tags": []
          },
          "execution_count": 20
        }
      ]
    },
    {
      "cell_type": "code",
      "metadata": {
        "id": "SUII3pSVR0nQ",
        "colab_type": "code",
        "outputId": "da3015bc-6ec5-46c4-bcab-a1405fc99c9f",
        "colab": {
          "base_uri": "https://localhost:8080/",
          "height": 34
        }
      },
      "source": [
        "# Eksik veri içeren kolonlar ve satirlar\n",
        "houseData.columns[houseData.isnull().sum() != 0]"
      ],
      "execution_count": 27,
      "outputs": [
        {
          "output_type": "execute_result",
          "data": {
            "text/plain": [
              "Index([], dtype='object')"
            ]
          },
          "metadata": {
            "tags": []
          },
          "execution_count": 27
        }
      ]
    },
    {
      "cell_type": "code",
      "metadata": {
        "id": "I0jl1FQIR0nZ",
        "colab_type": "code",
        "outputId": "f0bd99b5-a658-4026-ff2b-3c6a90e5d11e",
        "colab": {
          "base_uri": "https://localhost:8080/",
          "height": 34
        }
      },
      "source": [
        "# Her sütunda kaç eksik gözlem olduğunu görelim\n",
        "houseData.loc[:,houseData.columns[houseData.isnull().sum() != 0]].isnull().sum().sort_values()"
      ],
      "execution_count": 28,
      "outputs": [
        {
          "output_type": "execute_result",
          "data": {
            "text/plain": [
              "Series([], dtype: float64)"
            ]
          },
          "metadata": {
            "tags": []
          },
          "execution_count": 28
        }
      ]
    },
    {
      "cell_type": "code",
      "metadata": {
        "id": "R0setf0wR0nj",
        "colab_type": "code",
        "outputId": "73066894-baa2-4de2-b275-2598636b8ec5",
        "colab": {
          "base_uri": "https://localhost:8080/",
          "height": 1719
        }
      },
      "source": [
        "# Display the correlation heatmap\n",
        "\n",
        "fig = plt.figure(figsize=(30,30))\n",
        "ax = fig.add_subplot(1,1,1)\n",
        "colormap = sns.diverging_palette(220, 10, as_cmap=True)\n",
        "sns.heatmap(houseData.corr(), cmap=colormap, annot=True, linewidths=.4, fmt='.1f', ax=ax)"
      ],
      "execution_count": 29,
      "outputs": [
        {
          "output_type": "execute_result",
          "data": {
            "text/plain": [
              "<matplotlib.axes._subplots.AxesSubplot at 0x7fcb590b1550>"
            ]
          },
          "metadata": {
            "tags": []
          },
          "execution_count": 29
        },
        {
          "output_type": "display_data",
          "data": {
            "image/png": "[encoded data removed]",
            "text/plain": [
              "<Figure size 2160x2160 with 2 Axes>"
            ]
          },
          "metadata": {
            "tags": []
          }
        }
      ]
    },
    {
      "cell_type": "code",
      "metadata": {
        "id": "l627K_FxR0nw",
        "colab_type": "code",
        "outputId": "c462f783-7176-4d65-f860-799687d1c40c",
        "colab": {
          "base_uri": "https://localhost:8080/",
          "height": 238
        }
      },
      "source": [
        "# Sorted the most important features correlated to Sale Price\n",
        "corr = houseData.corr()\n",
        "corr.sort_values([\"Price\"], ascending = False, inplace = True)\n",
        "print(\"Most important feature correlated to Sale Price\")\n",
        "print(corr.Price)"
      ],
      "execution_count": 30,
      "outputs": [
        {
          "output_type": "stream",
          "text": [
            "Most important feature correlated to Sale Price\n",
            "Price            1.000000\n",
            "GrossArea        0.465932\n",
            "TotalFloor       0.450470\n",
            "LocatedFloor     0.448239\n",
            "NetArea          0.431783\n",
            "NumberOfRoom     0.410895\n",
            "Bathroom         0.391272\n",
            "Furniture        0.081929\n",
            "Balcony         -0.020564\n",
            "RentIncome      -0.206859\n",
            "AgeOfBuilding   -0.393148\n",
            "Name: Price, dtype: float64\n"
          ],
          "name": "stdout"
        }
      ]
    },
    {
      "cell_type": "code",
      "metadata": {
        "id": "YiGYsaSzR0n7",
        "colab_type": "code",
        "outputId": "bfa5b5ca-76fc-4d30-b34e-10d57b878fe0",
        "colab": {
          "base_uri": "https://localhost:8080/",
          "height": 390
        }
      },
      "source": [
        "# Show the correlation summary\n",
        "houseData.corr()"
      ],
      "execution_count": 31,
      "outputs": [
        {
          "output_type": "execute_result",
          "data": {
            "text/html": [
              "<div>\n",
              "<style scoped>\n",
              "    .dataframe tbody tr th:only-of-type {\n",
              "        vertical-align: middle;\n",
              "    }\n",
              "\n",
              "    .dataframe tbody tr th {\n",
              "        vertical-align: top;\n",
              "    }\n",
              "\n",
              "    .dataframe thead th {\n",
              "        text-align: right;\n",
              "    }\n",
              "</style>\n",
              "<table border=\"1\" class=\"dataframe\">\n",
              "  <thead>\n",
              "    <tr style=\"text-align: right;\">\n",
              "      <th></th>\n",
              "      <th>Price</th>\n",
              "      <th>NetArea</th>\n",
              "      <th>GrossArea</th>\n",
              "      <th>NumberOfRoom</th>\n",
              "      <th>AgeOfBuilding</th>\n",
              "      <th>LocatedFloor</th>\n",
              "      <th>TotalFloor</th>\n",
              "      <th>Bathroom</th>\n",
              "      <th>Balcony</th>\n",
              "      <th>Furniture</th>\n",
              "      <th>RentIncome</th>\n",
              "    </tr>\n",
              "  </thead>\n",
              "  <tbody>\n",
              "    <tr>\n",
              "      <th>Price</th>\n",
              "      <td>1.000000</td>\n",
              "      <td>0.431783</td>\n",
              "      <td>0.465932</td>\n",
              "      <td>0.410895</td>\n",
              "      <td>-0.393148</td>\n",
              "      <td>0.448239</td>\n",
              "      <td>0.450470</td>\n",
              "      <td>0.391272</td>\n",
              "      <td>-0.020564</td>\n",
              "      <td>0.081929</td>\n",
              "      <td>-0.206859</td>\n",
              "    </tr>\n",
              "    <tr>\n",
              "      <th>NetArea</th>\n",
              "      <td>0.431783</td>\n",
              "      <td>1.000000</td>\n",
              "      <td>0.892604</td>\n",
              "      <td>0.758123</td>\n",
              "      <td>0.150909</td>\n",
              "      <td>0.216833</td>\n",
              "      <td>0.051057</td>\n",
              "      <td>0.394373</td>\n",
              "      <td>0.267606</td>\n",
              "      <td>0.006066</td>\n",
              "      <td>0.075982</td>\n",
              "    </tr>\n",
              "    <tr>\n",
              "      <th>GrossArea</th>\n",
              "      <td>0.465932</td>\n",
              "      <td>0.892604</td>\n",
              "      <td>1.000000</td>\n",
              "      <td>0.766399</td>\n",
              "      <td>0.015283</td>\n",
              "      <td>0.303247</td>\n",
              "      <td>0.176453</td>\n",
              "      <td>0.467615</td>\n",
              "      <td>0.187113</td>\n",
              "      <td>-0.034004</td>\n",
              "      <td>-0.022022</td>\n",
              "    </tr>\n",
              "    <tr>\n",
              "      <th>NumberOfRoom</th>\n",
              "      <td>0.410895</td>\n",
              "      <td>0.758123</td>\n",
              "      <td>0.766399</td>\n",
              "      <td>1.000000</td>\n",
              "      <td>0.075408</td>\n",
              "      <td>0.142764</td>\n",
              "      <td>0.072566</td>\n",
              "      <td>0.366210</td>\n",
              "      <td>0.126564</td>\n",
              "      <td>-0.019572</td>\n",
              "      <td>-0.009229</td>\n",
              "    </tr>\n",
              "    <tr>\n",
              "      <th>AgeOfBuilding</th>\n",
              "      <td>-0.393148</td>\n",
              "      <td>0.150909</td>\n",
              "      <td>0.015283</td>\n",
              "      <td>0.075408</td>\n",
              "      <td>1.000000</td>\n",
              "      <td>-0.385655</td>\n",
              "      <td>-0.581077</td>\n",
              "      <td>-0.262645</td>\n",
              "      <td>0.299250</td>\n",
              "      <td>0.009102</td>\n",
              "      <td>0.421120</td>\n",
              "    </tr>\n",
              "    <tr>\n",
              "      <th>LocatedFloor</th>\n",
              "      <td>0.448239</td>\n",
              "      <td>0.216833</td>\n",
              "      <td>0.303247</td>\n",
              "      <td>0.142764</td>\n",
              "      <td>-0.385655</td>\n",
              "      <td>1.000000</td>\n",
              "      <td>0.600805</td>\n",
              "      <td>0.273672</td>\n",
              "      <td>0.021620</td>\n",
              "      <td>0.011811</td>\n",
              "      <td>-0.238901</td>\n",
              "    </tr>\n",
              "    <tr>\n",
              "      <th>TotalFloor</th>\n",
              "      <td>0.450470</td>\n",
              "      <td>0.051057</td>\n",
              "      <td>0.176453</td>\n",
              "      <td>0.072566</td>\n",
              "      <td>-0.581077</td>\n",
              "      <td>0.600805</td>\n",
              "      <td>1.000000</td>\n",
              "      <td>0.277807</td>\n",
              "      <td>-0.131349</td>\n",
              "      <td>-0.018566</td>\n",
              "      <td>-0.299056</td>\n",
              "    </tr>\n",
              "    <tr>\n",
              "      <th>Bathroom</th>\n",
              "      <td>0.391272</td>\n",
              "      <td>0.394373</td>\n",
              "      <td>0.467615</td>\n",
              "      <td>0.366210</td>\n",
              "      <td>-0.262645</td>\n",
              "      <td>0.273672</td>\n",
              "      <td>0.277807</td>\n",
              "      <td>1.000000</td>\n",
              "      <td>0.002875</td>\n",
              "      <td>0.037683</td>\n",
              "      <td>-0.179566</td>\n",
              "    </tr>\n",
              "    <tr>\n",
              "      <th>Balcony</th>\n",
              "      <td>-0.020564</td>\n",
              "      <td>0.267606</td>\n",
              "      <td>0.187113</td>\n",
              "      <td>0.126564</td>\n",
              "      <td>0.299250</td>\n",
              "      <td>0.021620</td>\n",
              "      <td>-0.131349</td>\n",
              "      <td>0.002875</td>\n",
              "      <td>1.000000</td>\n",
              "      <td>0.021197</td>\n",
              "      <td>0.098571</td>\n",
              "    </tr>\n",
              "    <tr>\n",
              "      <th>Furniture</th>\n",
              "      <td>0.081929</td>\n",
              "      <td>0.006066</td>\n",
              "      <td>-0.034004</td>\n",
              "      <td>-0.019572</td>\n",
              "      <td>0.009102</td>\n",
              "      <td>0.011811</td>\n",
              "      <td>-0.018566</td>\n",
              "      <td>0.037683</td>\n",
              "      <td>0.021197</td>\n",
              "      <td>1.000000</td>\n",
              "      <td>0.002196</td>\n",
              "    </tr>\n",
              "    <tr>\n",
              "      <th>RentIncome</th>\n",
              "      <td>-0.206859</td>\n",
              "      <td>0.075982</td>\n",
              "      <td>-0.022022</td>\n",
              "      <td>-0.009229</td>\n",
              "      <td>0.421120</td>\n",
              "      <td>-0.238901</td>\n",
              "      <td>-0.299056</td>\n",
              "      <td>-0.179566</td>\n",
              "      <td>0.098571</td>\n",
              "      <td>0.002196</td>\n",
              "      <td>1.000000</td>\n",
              "    </tr>\n",
              "  </tbody>\n",
              "</table>\n",
              "</div>"
            ],
            "text/plain": [
              "                  Price   NetArea  GrossArea  ...   Balcony  Furniture  RentIncome\n",
              "Price          1.000000  0.431783   0.465932  ... -0.020564   0.081929   -0.206859\n",
              "NetArea        0.431783  1.000000   0.892604  ...  0.267606   0.006066    0.075982\n",
              "GrossArea      0.465932  0.892604   1.000000  ...  0.187113  -0.034004   -0.022022\n",
              "NumberOfRoom   0.410895  0.758123   0.766399  ...  0.126564  -0.019572   -0.009229\n",
              "AgeOfBuilding -0.393148  0.150909   0.015283  ...  0.299250   0.009102    0.421120\n",
              "LocatedFloor   0.448239  0.216833   0.303247  ...  0.021620   0.011811   -0.238901\n",
              "TotalFloor     0.450470  0.051057   0.176453  ... -0.131349  -0.018566   -0.299056\n",
              "Bathroom       0.391272  0.394373   0.467615  ...  0.002875   0.037683   -0.179566\n",
              "Balcony       -0.020564  0.267606   0.187113  ...  1.000000   0.021197    0.098571\n",
              "Furniture      0.081929  0.006066  -0.034004  ...  0.021197   1.000000    0.002196\n",
              "RentIncome    -0.206859  0.075982  -0.022022  ...  0.098571   0.002196    1.000000\n",
              "\n",
              "[11 rows x 11 columns]"
            ]
          },
          "metadata": {
            "tags": []
          },
          "execution_count": 31
        }
      ]
    },
    {
      "cell_type": "code",
      "metadata": {
        "id": "kXHqS-aBR0n9",
        "colab_type": "code",
        "outputId": "58b2c322-5811-437d-bc51-104a19437a30",
        "colab": {
          "base_uri": "https://localhost:8080/",
          "height": 170
        }
      },
      "source": [
        "# Get information from column 'SalePrice'\n",
        "# We will see that the SalePrice minimum value is greater than zero.\n",
        "houseData['Price'].describe()"
      ],
      "execution_count": 32,
      "outputs": [
        {
          "output_type": "execute_result",
          "data": {
            "text/plain": [
              "count     949.000000\n",
              "mean      741.866175\n",
              "std       320.085283\n",
              "min       167.000000\n",
              "25%       545.000000\n",
              "50%       695.000000\n",
              "75%       865.000000\n",
              "max      4150.000000\n",
              "Name: Price, dtype: float64"
            ]
          },
          "metadata": {
            "tags": []
          },
          "execution_count": 32
        }
      ]
    },
    {
      "cell_type": "code",
      "metadata": {
        "id": "6G0ybwgCR0oP",
        "colab_type": "code",
        "outputId": "dd3fd759-3f9b-41e8-d13d-14d201ce3ef2",
        "colab": {
          "base_uri": "https://localhost:8080/",
          "height": 295
        }
      },
      "source": [
        "# Looking for outliers\n",
        "plt.scatter(x = houseData.NetArea, y = houseData.Price, c = \"blue\", marker = \"s\")\n",
        "plt.title(\"Scatter Plot of NetArea and SalePrice Initial\")\n",
        "plt.xlabel(\"NetArea\")\n",
        "plt.ylabel(\"SalePrice\")\n",
        "plt.show()"
      ],
      "execution_count": 33,
      "outputs": [
        {
          "output_type": "display_data",
          "data": {
            "image/png": "[encoded data removed]",
            "text/plain": [
              "<Figure size 432x288 with 1 Axes>"
            ]
          },
          "metadata": {
            "tags": []
          }
        }
      ]
    },
    {
      "cell_type": "code",
      "metadata": {
        "id": "zTjzmkAgR0ok",
        "colab_type": "code",
        "colab": {}
      },
      "source": [
        "# Remove these outliers to make a good prediction later on\n",
        "houseData = houseData.drop(houseData[(houseData['NetArea']>100)].index)\n",
        "houseData = houseData.drop(houseData[(houseData['Price']>2000)].index)"
      ],
      "execution_count": 0,
      "outputs": []
    },
    {
      "cell_type": "code",
      "metadata": {
        "id": "KANd9wkiR0op",
        "colab_type": "code",
        "outputId": "7533f914-40da-4a6f-f9df-dda94f6aceff",
        "colab": {
          "base_uri": "https://localhost:8080/",
          "height": 295
        }
      },
      "source": [
        "# Display the graph after three outliers have been removed\n",
        "plt.scatter(x = houseData.NetArea, y = houseData.Price, c = \"blue\", marker = \"s\")\n",
        "plt.title(\"Scatter Plot of NetArea and SalePrice Initial\")\n",
        "plt.xlabel(\"NetArea\")\n",
        "plt.ylabel(\"SalePrice\")\n",
        "plt.show()"
      ],
      "execution_count": 35,
      "outputs": [
        {
          "output_type": "display_data",
          "data": {
            "image/png": "[encoded data removed]",
            "text/plain": [
              "<Figure size 432x288 with 1 Axes>"
            ]
          },
          "metadata": {
            "tags": []
          }
        }
      ]
    },
    {
      "cell_type": "code",
      "metadata": {
        "id": "Kgw4AEOeR0o1",
        "colab_type": "code",
        "outputId": "e5dc43f1-b71c-48e5-a4dc-1540709ed37b",
        "colab": {
          "base_uri": "https://localhost:8080/",
          "height": 295
        }
      },
      "source": [
        "# Plot 'SalePrice' and 'AgeOfBuilding' \n",
        "plt.scatter(x = houseData.AgeOfBuilding, y = houseData.Price, c = \"blue\", marker = \"s\")\n",
        "plt.title(\"Scatter Plot of SalePrice and AgeOfBuilding\")\n",
        "plt.xlabel(\"AgeOfBuilding\")\n",
        "plt.ylabel(\"Price\")\n",
        "plt.show()"
      ],
      "execution_count": 36,
      "outputs": [
        {
          "output_type": "display_data",
          "data": {
            "image/png": "[encoded data removed]",
            "text/plain": [
              "<Figure size 432x288 with 1 Axes>"
            ]
          },
          "metadata": {
            "tags": []
          }
        }
      ]
    },
    {
      "cell_type": "code",
      "metadata": {
        "id": "ijYvbCq2R0pB",
        "colab_type": "code",
        "outputId": "0145cc54-2d26-4784-b5d1-9c02d37caf83",
        "colab": {
          "base_uri": "https://localhost:8080/",
          "height": 295
        }
      },
      "source": [
        "# Plot 'SalePrice' and 'Balcony'\n",
        "plt.scatter(x = houseData.Balcony, y = houseData.Price, c = \"blue\", marker = \"s\")\n",
        "plt.title(\"Scatter Plot of SalePrice and 'Balcony' (Evaluates the quality of the material on the exterior)\")\n",
        "plt.xlabel(\"Balcony\")\n",
        "plt.ylabel(\"Price\")\n",
        "plt.show()"
      ],
      "execution_count": 37,
      "outputs": [
        {
          "output_type": "display_data",
          "data": {
            "image/png": "[encoded data removed]",
            "text/plain": [
              "<Figure size 432x288 with 1 Axes>"
            ]
          },
          "metadata": {
            "tags": []
          }
        }
      ]
    },
    {
      "cell_type": "code",
      "metadata": {
        "id": "CNnH3fx3R0pK",
        "colab_type": "code",
        "outputId": "f09d20e6-2ef6-4400-f5c5-718fd3c2fef2",
        "colab": {
          "base_uri": "https://localhost:8080/",
          "height": 295
        }
      },
      "source": [
        "# Plot 'SalePrice' and 'Rentable'\n",
        "plt.scatter(x = houseData.RentIncome, y = houseData.Price, c = \"blue\", marker = \"s\")\n",
        "plt.title(\"Scatter Plot of SalePrice and 'RentIncome' (Evaluates the quality of the material on the exterior)\")\n",
        "plt.xlabel(\"RentIncome\")\n",
        "plt.ylabel(\"Price\")\n",
        "plt.show()"
      ],
      "execution_count": 38,
      "outputs": [
        {
          "output_type": "display_data",
          "data": {
            "image/png": "[encoded data removed]",
            "text/plain": [
              "<Figure size 432x288 with 1 Axes>"
            ]
          },
          "metadata": {
            "tags": []
          }
        }
      ]
    },
    {
      "cell_type": "code",
      "metadata": {
        "id": "9u8EJFUDR0pN",
        "colab_type": "code",
        "outputId": "73299b57-1b6b-4a52-f945-3d20792bcd6a",
        "colab": {
          "base_uri": "https://localhost:8080/",
          "height": 295
        }
      },
      "source": [
        "# Plot 'SalePrice' and 'NumberOfRoom'\n",
        "plt.scatter(x = houseData.NumberOfRoom, y = houseData.Price, c = \"blue\", marker = \"s\")\n",
        "plt.title(\"Scatter Plot of SalePrice and 'NumberOfRoom' (Evaluates the quality of the material on the exterior)\")\n",
        "plt.xlabel(\"NumberOfRoom\")\n",
        "plt.ylabel(\"Price\")\n",
        "plt.show()"
      ],
      "execution_count": 39,
      "outputs": [
        {
          "output_type": "display_data",
          "data": {
            "image/png": "[encoded data removed]",
            "text/plain": [
              "<Figure size 432x288 with 1 Axes>"
            ]
          },
          "metadata": {
            "tags": []
          }
        }
      ]
    },
    {
      "cell_type": "code",
      "metadata": {
        "id": "AyAKhceMR0pd",
        "colab_type": "code",
        "outputId": "d184985e-adc2-46ab-a588-c8647f7eafee",
        "colab": {
          "base_uri": "https://localhost:8080/",
          "height": 301
        }
      },
      "source": [
        "# Check the distribution of label values (SalePrice)\n",
        "sns.distplot(houseData['Price'])\n"
      ],
      "execution_count": 40,
      "outputs": [
        {
          "output_type": "execute_result",
          "data": {
            "text/plain": [
              "<matplotlib.axes._subplots.AxesSubplot at 0x7fcb575d5f60>"
            ]
          },
          "metadata": {
            "tags": []
          },
          "execution_count": 40
        },
        {
          "output_type": "display_data",
          "data": {
            "image/png": "[encoded data removed]",
            "text/plain": [
              "<Figure size 432x288 with 1 Axes>"
            ]
          },
          "metadata": {
            "tags": []
          }
        }
      ]
    },
    {
      "cell_type": "code",
      "metadata": {
        "id": "uL9nCvlaR0pt",
        "colab_type": "code",
        "outputId": "f34d0369-e98b-4365-dead-68c08e1121dd",
        "colab": {
          "base_uri": "https://localhost:8080/",
          "height": 34
        }
      },
      "source": [
        "# Skewness metric\n",
        "houseData['Price'].skew()"
      ],
      "execution_count": 41,
      "outputs": [
        {
          "output_type": "execute_result",
          "data": {
            "text/plain": [
              "0.9092543519338112"
            ]
          },
          "metadata": {
            "tags": []
          },
          "execution_count": 41
        }
      ]
    },
    {
      "cell_type": "markdown",
      "metadata": {
        "id": "fVg3qtXVR0pt",
        "colab_type": "text"
      },
      "source": [
        "The skewness value > 1 ==> data is highly skewed. We can use Logarithm transformation to normalize the SalePrice data. A normalized label helps in better modeling the relationship between label values and independent features."
      ]
    },
    {
      "cell_type": "code",
      "metadata": {
        "id": "pl_l12cgR0p8",
        "colab_type": "code",
        "outputId": "161f19e5-bdb5-4aef-ff57-afacd6d03767",
        "colab": {
          "base_uri": "https://localhost:8080/",
          "height": 34
        }
      },
      "source": [
        "normalized_saleprice = np.log(houseData['Price'])\n",
        "print('Check skewness:', normalized_saleprice.skew())"
      ],
      "execution_count": 42,
      "outputs": [
        {
          "output_type": "stream",
          "text": [
            "Check skewness: -0.4039767834422395\n"
          ],
          "name": "stdout"
        }
      ]
    },
    {
      "cell_type": "code",
      "metadata": {
        "id": "E8y7wwVzR0p8",
        "colab_type": "code",
        "outputId": "6a45d4da-5d09-41b4-9f88-bb535a80a6ee",
        "colab": {
          "base_uri": "https://localhost:8080/",
          "height": 301
        }
      },
      "source": [
        "sns.distplot(normalized_saleprice)"
      ],
      "execution_count": 43,
      "outputs": [
        {
          "output_type": "execute_result",
          "data": {
            "text/plain": [
              "<matplotlib.axes._subplots.AxesSubplot at 0x7fcb575c4c50>"
            ]
          },
          "metadata": {
            "tags": []
          },
          "execution_count": 43
        },
        {
          "output_type": "display_data",
          "data": {
            "image/png": "[encoded data removed]",
            "text/plain": [
              "<Figure size 432x288 with 1 Axes>"
            ]
          },
          "metadata": {
            "tags": []
          }
        }
      ]
    },
    {
      "cell_type": "code",
      "metadata": {
        "id": "XjCx9ZkhR0qM",
        "colab_type": "code",
        "colab": {}
      },
      "source": [
        ""
      ],
      "execution_count": 0,
      "outputs": []
    },
    {
      "cell_type": "code",
      "metadata": {
        "id": "0uBkLmGNR0qf",
        "colab_type": "code",
        "colab": {}
      },
      "source": [
        ""
      ],
      "execution_count": 0,
      "outputs": []
    },
    {
      "cell_type": "code",
      "metadata": {
        "id": "UuWlSeELR0qf",
        "colab_type": "code",
        "colab": {}
      },
      "source": [
        "# We use sklearn.model_selection import train_test_split to split the dataframe into trainset and testset\n",
        "from sklearn.model_selection import train_test_split \n",
        "from sklearn.preprocessing import StandardScaler\n",
        "   \n",
        "#Divide data into training set and test set = 70 % : 30%\n",
        "trainset, testset = train_test_split(houseData, test_size=0.15)\n",
        "\n",
        "    \n",
        "x_trainset = trainset.drop(['Price'],axis=1)\n",
        "x_testset = testset.drop(['Price'],axis=1)\n",
        " \n",
        "scaler = StandardScaler()\n",
        "\n",
        "x_train = scaler.fit_transform(trainset.drop(['Price'],axis=1).values)\n",
        "y_train = scaler.fit_transform(trainset['Price'].values.reshape(-1, 1))\n",
        "y_train = np.ravel(y_train)\n",
        "\n",
        "x_test = scaler.fit_transform(testset.drop(['Price'],axis=1).values)\n",
        "y_test = scaler.fit_transform(testset['Price'].values.reshape(-1, 1))\n",
        "y_test = np.ravel(y_test)"
      ],
      "execution_count": 0,
      "outputs": []
    },
    {
      "cell_type": "code",
      "metadata": {
        "id": "V6IRTFN7R0qz",
        "colab_type": "code",
        "colab": {
          "base_uri": "https://localhost:8080/",
          "height": 132
        },
        "outputId": "4696694f-7043-4511-b2c7-000da706e496"
      },
      "source": [
        "# Initial population function\n",
        "# pop_size is the number of individuals (rows) in the initial population\n",
        "# genesPerCh is the number of genes per each individual (features/ columns) \n",
        "# assign randomly binary values to each individual\n",
        "    \n",
        "def generate_pop (pop_size, genesPerCh):                  \n",
        "    chromosomes = np.array([np.random.choice([(-1,1)], size=genesPerCh)for individual in range(pop_size)],dtype='float32')   \n",
        "    return chromosomes   # return the initial population"
      ],
      "execution_count": 55,
      "outputs": [
        {
          "output_type": "error",
          "ename": "IndentationError",
          "evalue": "ignored",
          "traceback": [
            "\u001b[0;36m  File \u001b[0;32m\"<ipython-input-55-3854668d2c76>\"\u001b[0;36m, line \u001b[0;32m3\u001b[0m\n\u001b[0;31m    chromosomes = np.array([np.random.choice([(-1,1)], size=genesPerCh)for individual in range(pop_size)],dtype='float32')\u001b[0m\n\u001b[0m              ^\u001b[0m\n\u001b[0;31mIndentationError\u001b[0m\u001b[0;31m:\u001b[0m expected an indented block\n"
          ]
        }
      ]
    },
    {
      "cell_type": "code",
      "metadata": {
        "id": "2ZZ0uc_5R0q9",
        "colab_type": "code",
        "colab": {}
      },
      "source": [
        "# Decode function\n",
        "# pop is the population to be decoded\n",
        "# np.argwhere return indices from non-zero genes and flattened the array with np.ravel\n",
        "def decode_function(pop): \n",
        "    selected_features = np.array([np.ravel(np.argwhere(pop[i])) for i in range(pop.shape[0])])\n",
        "    return selected_features         # return array with selected indices "
      ],
      "execution_count": 0,
      "outputs": []
    },
    {
      "cell_type": "code",
      "metadata": {
        "id": "zTp_QO0lR0rH",
        "colab_type": "code",
        "colab": {}
      },
      "source": [
        "#ANN with SKlearn\n",
        "from sklearn.neural_network import MLPRegressor  \n",
        "\n",
        "def NeuralNetwork(train_x, train_y):\n",
        "    mlp = MLPRegressor(hidden_layer_sizes=(5),\n",
        "                       activation='relu',\n",
        "                       solver='lbfgs',\n",
        "                       max_iter=5,\n",
        "                    )\n",
        " \n",
        "    mlp.fit(train_x, train_y)  \n",
        "    return mlp\n",
        "\n",
        "def get_predictions_forTrain(features):\n",
        "    #for given feature indexes, this function will get predictions from neural network for the specified features\n",
        "    mlp = NeuralNetwork(x_train[:,features], y_train)\n",
        "    predictions = mlp.predict(x_train[:,features])\n",
        "    return predictions"
      ],
      "execution_count": 0,
      "outputs": []
    },
    {
      "cell_type": "code",
      "metadata": {
        "id": "nD4FScCeR0rS",
        "colab_type": "code",
        "colab": {}
      },
      "source": [
        "def fitness(pred, real):\n",
        "    MSE_ANN = mean_squared_error(real , pred)\n",
        "    RMSE_ANN = np.sqrt(MSE_ANN)\n",
        "    return (1/RMSE_ANN) #fitness would be the inverse of roo mean square error"
      ],
      "execution_count": 0,
      "outputs": []
    },
    {
      "cell_type": "code",
      "metadata": {
        "id": "_mHjMobMR0rS",
        "colab_type": "code",
        "colab": {}
      },
      "source": [
        "#This functions stops the iteration if after 20x5 iterations, the fitness drops, it takes the population from previous fitness STORED\n",
        "\n",
        "def stoppingCriteria(fitness, pop, fitness_of_featuresSets, n):\n",
        "    \n",
        "    global temp_pop \n",
        "    global temp_fitness\n",
        "    if len(fitness) < n: \n",
        "        return False\n",
        "    elif len(fitness) == n: \n",
        "        temp_pop = pop\n",
        "        temp_fitness = fitness_of_featuresSets\n",
        "        return False\n",
        "    else:\n",
        "        if fitness[-2] < fitness[-1]: \n",
        "            temp_fitness = fitness_of_featuresSets\n",
        "            return False\n",
        "        else: \n",
        "            return True "
      ],
      "execution_count": 0,
      "outputs": []
    },
    {
      "cell_type": "code",
      "metadata": {
        "id": "itmJdkPCR0rc",
        "colab_type": "code",
        "colab": {}
      },
      "source": [
        "def RouletteWheel_Selection(pop,fitness):\n",
        "    porps = (fitness/np.sum(fitness))  # calculate the proportions of all fitnesses   \n",
        "    fitness_pop = np.hstack([pop,porps]) # add the proportions to population\n",
        "    new_parents = np.zeros(pop.shape,dtype='float32')\n",
        "    for chromosome in range(new_parents.shape[0]) :\n",
        "        pick = np.random.uniform(0,1)         # pick random number from 0 to summation of proportions\n",
        "        index = np.argwhere(fitness_pop[:,-1].cumsum()>pick)[0]  # go through the population and sum the fitnesses and \n",
        "        new_parents[chromosome] = fitness_pop[index,:-1]         # return the chromosome when the sum of fitnesses is \n",
        "                                                                 # greater than pick number\n",
        "    return new_parents   # return the selected parents "
      ],
      "execution_count": 0,
      "outputs": []
    },
    {
      "cell_type": "code",
      "metadata": {
        "id": "MSm1FwRIR0rk",
        "colab_type": "code",
        "colab": {}
      },
      "source": [
        "def uniformCrossover(population):\n",
        "    offspring = np.zeros_like(population)\n",
        "    p1 = population[1::2] #Even indexes 0,2,4... would be parent 1\n",
        "    p2 = population[1::2] #Odd indexes 1,3,5... would be parent 2\n",
        "    if len(p1)!=len(p2): #If population size is odd the p1 would be larger thatn p2\n",
        "        #We won't be doing the crossover of last individual of the mutation pool and copy it as it is to the offspring\n",
        "        offspring[-1] = p1[-1]\n",
        "        p1 = p1[:-1]\n",
        "    swap = np.random.choice([True,False], size=p1.shape) #generate True or False of every parent set.\n",
        "    #True means swap the cell from p1 with p1. False means no swapping\n",
        "    #Even rows of offspring would be p1 and odd would be p2\n",
        "    offspring[:-1:2] = np.where(swap, p2, p1) #if swap is true for a cell, even row would have p2 for that gene. Other-wise p1 \n",
        "    offspring[1::3] = np.where(swap, p1, p2) #if swap is true for a cell, odd row would have p1 for that gene. Other-wise p2\n",
        "    return offspring"
      ],
      "execution_count": 0,
      "outputs": []
    },
    {
      "cell_type": "code",
      "metadata": {
        "id": "_H3PGgxkR0rm",
        "colab_type": "code",
        "colab": {}
      },
      "source": [
        "# Mutation function with default mutation probability as 0.3\n",
        "def bitFlipMutation(offspring, p = 0.3):\n",
        "    toMutate = np.sort(np.random.randint(offspring.shape[0], size=int(offspring.shape[0]*p))) #Select the chromosomes you want to apply Mutation on\n",
        "    bitPos = np.random.randint(offspring[toMutate].shape[1], size=offspring[toMutate].shape[0]) #generate a random gene position to flip for selected chromosomes\n",
        "    offspring[toMutate, bitPos] = np.where(offspring[toMutate, bitPos],0,1) #if value is 1, replace it by 0 and vice-versa\n",
        "    return offspring"
      ],
      "execution_count": 0,
      "outputs": []
    },
    {
      "cell_type": "code",
      "metadata": {
        "id": "9QPe26uWR0ru",
        "colab_type": "code",
        "colab": {}
      },
      "source": [
        "pop_size = 20\n",
        "pred_train = np.frompyfunc(get_predictions_forTrain, 1, 1) \n",
        "fVec = np.vectorize(fitness, excluded=['real'], otypes=[np.float32])\n",
        "house_features = houseData.columns[:-1] \n",
        "genesPerCh = house_features.size \n",
        "pop = generate_pop(pop_size, genesPerCh)\n",
        "selected_features = decode_function(pop)\n",
        "number_of_generations = 40 \n",
        "avgFitnessPerGeneration = [] \n",
        "maxFitnessPerGeneration = [] \n",
        "minFitnessPerGeneration = [] \n",
        "for iteration in range(number_of_generations):\n",
        "    s_predictions = pred_train(selected_features) \n",
        "    fitness_of_featuresSets = fVec(pred = s_predictions, real = y_train) \n",
        "    fitness_of_featuresSets = fitness_of_featuresSets.reshape(fitness_of_featuresSets.shape[0],1) \n",
        "    if iteration%10 == 0:\n",
        "        avgFitnessPerGeneration.append(np.mean(fitness_of_featuresSets))\n",
        "        maxFitnessPerGeneration.append(np.max(fitness_of_featuresSets))\n",
        "        minFitnessPerGeneration.append(np.min(fitness_of_featuresSets))\n",
        "        if stoppingCriteria(maxFitnessPerGeneration, pop, fitness_of_featuresSets, n=8): \n",
        "            selectedPop = temp_pop \n",
        "            fitnessForSelectedPop = temp_fitness \n",
        "            indPos = np.argmax(fitnessForSelectedPop) \n",
        "            bestInd = selectedPop[indPos] \n",
        "            break \n",
        "   \n",
        "    \n",
        "    \n",
        "   "
      ],
      "execution_count": 0,
      "outputs": []
    },
    {
      "cell_type": "code",
      "metadata": {
        "id": "PwwNFnNTR0sZ",
        "colab_type": "code",
        "colab": {}
      },
      "source": [
        "mating_pool = RouletteWheel_Selection(pop, fitness_of_featuresSets)\n",
        "    \n",
        "offspring = uniformCrossover(mating_pool) \n",
        "   \n",
        "offspring = bitFlipMutation(offspring)\n",
        "\n",
        "pop = offspring\n",
        "  \n",
        "selected_features= decode_function(offspring)"
      ],
      "execution_count": 0,
      "outputs": []
    },
    {
      "cell_type": "code",
      "metadata": {
        "id": "v9tTTDU1R0sh",
        "colab_type": "code",
        "colab": {}
      },
      "source": [
        "#plot fitnessPerGeneration\n",
        "fig = plt.figure(figsize=(15,8))\n",
        "ax = fig.add_subplot(1, 1, 1)\n",
        "#set title of the graph/plot\n",
        "ax.set_title('Plot of the fitnessPerIteration ')\n",
        "#ax.set_xlabel('Date')\n",
        "ax.plot(avgFitnessPerGeneration, 'r', label='Average Fitness')\n",
        "ax.plot(maxFitnessPerGeneration, 'g', label='Max Fitness')\n",
        "ax.plot(minFitnessPerGeneration, 'c', label='Min Fitness')\n",
        "ax.legend(loc='best', prop={'size': 20}) \n",
        "_ = fig.suptitle('Fitness of populations being improved using GA', fontsize=22)\n",
        "ax.grid(color = 'b', linestyle='--')\n",
        "xticks = list(range(0,len(maxFitnessPerGeneration)+1,1))\n",
        "xticklabels = [x*5 for x in xticks]\n",
        "props = {'xlabel': 'Iterations',\n",
        "         'xticks': xticks,\n",
        "         'ylabel': 'Fitness'\n",
        "        }\n",
        "_ = ax.set(**props)\n",
        "labels = ax.set_xticklabels(xticklabels, rotation=30, fontsize='medium')\n",
        "#Annotation\n",
        "xh = (len(maxFitnessPerGeneration)-2)\n",
        "yh = np.max(temp_fitness)\n",
        "_= ax.annotate('Best population selected', \n",
        "                xy = (xh, yh), \n",
        "                xytext=(ax.get_xlim()[0]+xh-2.5, yh + 0.045),\n",
        "                arrowprops=dict(facecolor='green', headwidth=4, width=2,\n",
        "                                headlength=4),\n",
        "                horizontalalignment='left', verticalalignment='top', color='blue', size=15\n",
        "                )"
      ],
      "execution_count": 0,
      "outputs": []
    },
    {
      "cell_type": "code",
      "metadata": {
        "id": "Tj0838gWR0sj",
        "colab_type": "code",
        "colab": {}
      },
      "source": [
        "print(np.ravel(house_features[np.argwhere(bestInd)]))\n"
      ],
      "execution_count": 0,
      "outputs": []
    },
    {
      "cell_type": "code",
      "metadata": {
        "id": "5HLA8HQMR0st",
        "colab_type": "code",
        "colab": {}
      },
      "source": [
        "def get_predictions_forTest(features):\n",
        "    #for given feature indexes, this function will get predictions from neural network for the specified features\n",
        "    mlp = NeuralNetwork(x_train[:,features], y_train)\n",
        "    predictions = mlp.predict(x_test[:,features])\n",
        "    return predictions"
      ],
      "execution_count": 0,
      "outputs": []
    },
    {
      "cell_type": "code",
      "metadata": {
        "id": "WCmbS6JXR0s3",
        "colab_type": "code",
        "colab": {}
      },
      "source": [
        "# get predictions on testset\n",
        "pred_test = np.frompyfunc(get_predictions_forTest, 1, 1) #Function to get prediction array corresponding to all the slected features\n",
        "selected_features_test = decode_function(selectedPop) #get selected features by GA\n",
        "s_predictions_test = pred_test(selected_features_test) #predicted labels for test set\n",
        "fitness_of_featuresSets_test = fVec(pred = s_predictions_test, real = y_test) #for every predicted array, get the fitness for each individual\n",
        "fitness_of_featuresSets_test = fitness_of_featuresSets_test.reshape(fitness_of_featuresSets_test.shape[0],1)  #taking the transpose to get proper dimensions for future computations"
      ],
      "execution_count": 0,
      "outputs": []
    },
    {
      "cell_type": "code",
      "metadata": {
        "id": "JzVWGzugR0s3",
        "colab_type": "code",
        "colab": {}
      },
      "source": [
        ""
      ],
      "execution_count": 0,
      "outputs": []
    },
    {
      "cell_type": "code",
      "metadata": {
        "id": "RtF9uG-wR0tB",
        "colab_type": "code",
        "colab": {}
      },
      "source": [
        ""
      ],
      "execution_count": 0,
      "outputs": []
    }
  ]
}